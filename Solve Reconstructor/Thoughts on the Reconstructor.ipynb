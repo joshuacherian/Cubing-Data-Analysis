{
 "cells": [
  {
   "cell_type": "markdown",
   "metadata": {},
   "source": [
    "# The Solve Reconstructor...inator\n",
    "\n",
    "The GAN 356i was recently launched as a fascinating new foray into cubing and technology. It's a cube embedded with sensors that link to an application that tracks its every move. Face turns, cube rotations, everything. This provides a super handy way to analyze your solves...if you happen to own a ~$90 cube. This got me thinking. What if it were possible to provide those same insights on any cube? What if it were possible to use a Valk Power M or a Moyu Aolong or a Dayan TengYun and get the exact same data? \n",
    "\n",
    "I'd like to create an application that takes in video of a cube being solved, analyzes it, and returns a reconstruction along with a breakdown of how long each section of the (CFOP) solve took. The only problem is, I'm a barely competent coder. I've got no experience in any of the necessary skills needed to do something like this. So here's a few thoughts from a complete novice."
   ]
  },
  {
   "cell_type": "markdown",
   "metadata": {},
   "source": [
    "## Pros\n",
    "\n",
    "- The cube is a fixed, rigid body. No new information enters and none leaves. There are 6 colors, 45 possible face turns, and 9 possible cube rotations. No more, no less. Alternatively, the cube can be seen as a collection of 6 centers, 8 corners, and 12 edges. It may be easier to just keep track of individual pieces.\n",
    "- I recently did some analysis of my solve data using Python. It was quite easy due to Python's flexibility. I think I managed to get a lot done with it. I think it would be a good place to start.\n",
    "- There are a few resources at the intersection of cubing and coding: [Conrad Rider's Visual Cube](http://cube.crider.co.uk/visualcube.php) and [Jonatan Klosko's Cube Reconstruction](https://github.com/jonatanklosko/reconstructions), for example.\n",
    "- There are open-source video tracking applications, such as [tracktor](https://github.com/vivekhsridhar/tracktor) and [trackR](https://swarm-lab.github.io/trackR/)"
   ]
  },
  {
   "cell_type": "markdown",
   "metadata": {},
   "source": [
    "## Cons\n",
    "\n",
    "- This is a 3D object. Tracking a 2D object is (relatively) easy. Tracking the rotations of an unchanging 3D object is probably hard. Tracking a deformable 3D object? I've got no idea.\n",
    "- I'm not a programmer. This is venturing into completely unknown territory."
   ]
  },
  {
   "cell_type": "markdown",
   "metadata": {},
   "source": [
    "## More Thoughts\n",
    "\n",
    "Klosko's Cube Reconstruction is very good! It intelligently takes an input of a scramble and a reconstruction, checks that the reconstruction indeed solves the cube, then provides a breakdown of what moves correspond to what stage in the solve. This solves most of the problem. The only addition would have to be how long each stage took (e.g., cross in 4.2, F2L in 5.8, OLL in 2.1, PLL in 1.3).\n",
    "\n",
    "Also check out [this resource](https://www.pyimagesearch.com/2015/09/14/ball-tracking-with-opencv/) on ball tracking and [this resource](https://www.pyimagesearch.com/2015/09/21/opencv-track-object-movement/) on object tracking. All in all, this is starting to seem like it's doable!"
   ]
  },
  {
   "cell_type": "code",
   "execution_count": null,
   "metadata": {},
   "outputs": [],
   "source": []
  }
 ],
 "metadata": {
  "kernelspec": {
   "display_name": "Python 3",
   "language": "python",
   "name": "python3"
  },
  "language_info": {
   "codemirror_mode": {
    "name": "ipython",
    "version": 3
   },
   "file_extension": ".py",
   "mimetype": "text/x-python",
   "name": "python",
   "nbconvert_exporter": "python",
   "pygments_lexer": "ipython3",
   "version": "3.7.3"
  }
 },
 "nbformat": 4,
 "nbformat_minor": 2
}
