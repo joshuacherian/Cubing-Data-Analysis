{
 "cells": [
  {
   "cell_type": "code",
   "execution_count": 1,
   "metadata": {},
   "outputs": [],
   "source": [
    "import pandas as pd\n",
    "import numpy as np\n",
    "import matplotlib.pyplot as plt\n",
    "import datetime\n",
    "excelFile = 'Cubing Data.xlsx'\n",
    "solutions = pd.read_excel(excelFile)"
   ]
  },
  {
   "cell_type": "code",
   "execution_count": 2,
   "metadata": {},
   "outputs": [],
   "source": [
    "date = 'Solution Date & Time'\n",
    "solve = 'Time Elapsed (seconds)'\n",
    "ao5 = 'Current Ao5'\n",
    "ao12 = 'Current Ao12'\n",
    "ao100 = 'Current Ao100'\n",
    "del solutions['Scramble']\n",
    "\n",
    "splits = [0,15,20,25,30,45,60]\n",
    "splitNames = ['Sub-15', 'Sub-20', 'Sub-25', 'Sub-30', 'Sub-45', 'Sub-60']\n",
    "solutions['Single Splits'] = pd.cut(solutions['Time Elapsed (seconds)'], splits, right = False, labels=splitNames)"
   ]
  },
  {
   "cell_type": "code",
   "execution_count": 20,
   "metadata": {},
   "outputs": [
    {
     "name": "stdout",
     "output_type": "stream",
     "text": [
      "[69, 3933, 6862, 222, 1149, 1005, 1340, 74, 546, 450, 1673]\n",
      "['2016', '2017', '2018', '1', '2', '3', '4', '5', '6', '7', '8']\n"
     ]
    }
   ],
   "source": [
    "# if year != currentYear\n",
    "    #count entire year's data\n",
    "now = datetime.datetime.now()\n",
    "currentYear = now.year\n",
    "currentMonth = now.month\n",
    "activeYear = 0\n",
    "activeMonth = 0\n",
    "\n",
    "#Determine what range you want to count\n",
    "ranges = []\n",
    "rangeLabels = []\n",
    "\n",
    "for index, row in solutions.iterrows():\n",
    "    if row[0].year != activeYear and row[0].year != currentYear: #when entering a new year\n",
    "        activeYear = row[0].year\n",
    "        ranges.append(1)\n",
    "        rangeLabels.append(str(activeYear))\n",
    "    elif row[0].year == activeYear and row[0].year != currentYear: #when in a year != present year\n",
    "        ranges[-1] += 1\n",
    "    else: #when in the present year we want monthly breakdowns\n",
    "        if row[0].month != activeMonth: #when entering a new month\n",
    "            activeMonth = row[0].month\n",
    "            ranges.append(1)\n",
    "            rangeLabels.append(str(activeMonth))\n",
    "        else: #when in any month\n",
    "            ranges[-1] += 1\n",
    "\n",
    "print(ranges)\n",
    "print(rangeLabels)\n",
    "\n",
    "def splitCounter(solutionRange)\n",
    "splitCount = [0, 0, 0, 0, 0, 0]\n",
    "for index, row in solutionRange.iterrows():\n",
    "    if row[1] < 15:\n",
    "        splitCount[0] += 1\n",
    "    elif row[1] < 20:\n",
    "        splitCount[1] += 1\n",
    "    elif row[1] < 25:\n",
    "        splitCount[2] += 1\n",
    "    elif row[1] < 30:\n",
    "        splitCount[3] += 1\n",
    "    elif row[1] < 45:\n",
    "        splitCount[4] += 1\n",
    "    else:\n",
    "        splitCount[5] += 1\n",
    "return splitCount\n",
    "\n",
    "#Input that range in to the splitCounter function, which will tell you how many in each category you have\n",
    "#Collect the splitCounts, then make a stacked plot    \n"
   ]
  },
  {
   "cell_type": "code",
   "execution_count": null,
   "metadata": {},
   "outputs": [],
   "source": [
    "#To make stacked bar plots\n",
    "N = 5\n",
    "menMeans = (20, 35, 30, 35, 27)\n",
    "womenMeans = (25, 32, 34, 20, 25)\n",
    "menStd = (2, 3, 4, 1, 2)\n",
    "womenStd = (3, 5, 2, 3, 3)\n",
    "ind = np.arange(N)    # the x locations for the groups\n",
    "width = 0.35       # the width of the bars: can also be len(x) sequence\n",
    "\n",
    "p1 = plt.bar(ind, menMeans, width, yerr=menStd)\n",
    "p2 = plt.bar(ind, womenMeans, width,\n",
    "             bottom=menMeans, yerr=womenStd)\n",
    "\n",
    "plt.ylabel('Scores')\n",
    "plt.title('Scores by group and gender')\n",
    "plt.xticks(ind, ('G1', 'G2', 'G3', 'G4', 'G5'))\n",
    "plt.yticks(np.arange(0, 81, 10))\n",
    "plt.legend((p1[0], p2[0]), ('Men', 'Women'))\n",
    "\n",
    "plt.show()"
   ]
  },
  {
   "cell_type": "code",
   "execution_count": null,
   "metadata": {},
   "outputs": [],
   "source": []
  },
  {
   "cell_type": "code",
   "execution_count": null,
   "metadata": {},
   "outputs": [],
   "source": [
    "#TODO:\n",
    "#Progress evaluator for Ao5, 12, 100, etc.\n",
    "#PB Tracker\n",
    "#Weekday Evaluator"
   ]
  }
 ],
 "metadata": {
  "kernelspec": {
   "display_name": "Python 3",
   "language": "python",
   "name": "python3"
  },
  "language_info": {
   "codemirror_mode": {
    "name": "ipython",
    "version": 3
   },
   "file_extension": ".py",
   "mimetype": "text/x-python",
   "name": "python",
   "nbconvert_exporter": "python",
   "pygments_lexer": "ipython3",
   "version": "3.7.3"
  }
 },
 "nbformat": 4,
 "nbformat_minor": 2
}
