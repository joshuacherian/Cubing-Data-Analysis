{
 "cells": [
  {
   "cell_type": "code",
   "execution_count": 1,
   "metadata": {},
   "outputs": [],
   "source": [
    "import pandas as pd\n",
    "import numpy as np\n",
    "import matplotlib.pyplot as plt"
   ]
  },
  {
   "cell_type": "code",
   "execution_count": 2,
   "metadata": {},
   "outputs": [],
   "source": [
    "excelFile = 'Cubing Data.xlsx'\n",
    "solutions = pd.read_excel(excelFile)"
   ]
  },
  {
   "cell_type": "code",
   "execution_count": 3,
   "metadata": {},
   "outputs": [],
   "source": [
    "date = 'Solution Date & Time'\n",
    "solve = 'Time Elapsed (seconds)'\n",
    "ao5 = 'Current Ao5'\n",
    "ao12 = 'Current Ao12'\n",
    "ao100 = 'Current Ao100'\n",
    "del solutions['Scramble']"
   ]
  },
  {
   "cell_type": "code",
   "execution_count": 4,
   "metadata": {},
   "outputs": [],
   "source": [
    "splits = [0,15,20,25,30,45,60]\n",
    "splitNames = ['Sub-15', 'Sub-20', 'Sub-25', 'Sub-30', 'Sub-45', 'Sub-60']\n",
    "solutions['Single Splits'] = pd.cut(solutions['Time Elapsed (seconds)'], splits, right = False, labels=splitNames)"
   ]
  },
  {
   "cell_type": "code",
   "execution_count": null,
   "metadata": {},
   "outputs": [],
   "source": [
    "# if year != currentYear\n",
    "    #count entire year's data\n",
    "sub60count = 0\n",
    "sub45count = 0\n",
    "sub30count = 0\n",
    "sub25count = 0\n",
    "sub20count = 0\n",
    "sub15count = 0\n",
    "totalcount = 0\n",
    "\n",
    "for index, row in solutions.iterrows():\n",
    "    if row[0].year == 2017:\n",
    "        totalcount += 1\n",
    "        if row[1] < 15:\n",
    "            sub15count += 1\n",
    "        elif row[1] < 20:\n",
    "            sub20count += 1\n",
    "        elif row[1] < 25:\n",
    "            sub25count += 1\n",
    "        elif row[1] < 30:\n",
    "            sub30count += 1\n",
    "        elif row[1] < 45:\n",
    "            sub45count += 1\n",
    "        else:\n",
    "            sub60count += 1\n",
    "# else\n",
    "    #count monthly data"
   ]
  },
  {
   "cell_type": "code",
   "execution_count": null,
   "metadata": {},
   "outputs": [],
   "source": [
    "#To make stacked bar plots\n",
    "N = 5\n",
    "menMeans = (20, 35, 30, 35, 27)\n",
    "womenMeans = (25, 32, 34, 20, 25)\n",
    "menStd = (2, 3, 4, 1, 2)\n",
    "womenStd = (3, 5, 2, 3, 3)\n",
    "ind = np.arange(N)    # the x locations for the groups\n",
    "width = 0.35       # the width of the bars: can also be len(x) sequence\n",
    "\n",
    "p1 = plt.bar(ind, menMeans, width, yerr=menStd)\n",
    "p2 = plt.bar(ind, womenMeans, width,\n",
    "             bottom=menMeans, yerr=womenStd)\n",
    "\n",
    "plt.ylabel('Scores')\n",
    "plt.title('Scores by group and gender')\n",
    "plt.xticks(ind, ('G1', 'G2', 'G3', 'G4', 'G5'))\n",
    "plt.yticks(np.arange(0, 81, 10))\n",
    "plt.legend((p1[0], p2[0]), ('Men', 'Women'))\n",
    "\n",
    "plt.show()"
   ]
  },
  {
   "cell_type": "code",
   "execution_count": null,
   "metadata": {},
   "outputs": [],
   "source": [
    "#TODO:\n",
    "#Progress evaluator for Ao5, 12, 100, etc.\n",
    "#PB Tracker\n",
    "#Weekday Evaluator"
   ]
  }
 ],
 "metadata": {
  "kernelspec": {
   "display_name": "Python 3",
   "language": "python",
   "name": "python3"
  },
  "language_info": {
   "codemirror_mode": {
    "name": "ipython",
    "version": 3
   },
   "file_extension": ".py",
   "mimetype": "text/x-python",
   "name": "python",
   "nbconvert_exporter": "python",
   "pygments_lexer": "ipython3",
   "version": "3.7.3"
  }
 },
 "nbformat": 4,
 "nbformat_minor": 2
}
