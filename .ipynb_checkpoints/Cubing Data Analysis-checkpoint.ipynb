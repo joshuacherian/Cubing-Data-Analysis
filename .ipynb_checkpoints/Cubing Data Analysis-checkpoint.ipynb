{
 "cells": [
  {
   "cell_type": "code",
   "execution_count": 1,
   "metadata": {},
   "outputs": [],
   "source": [
    "import pandas as pd\n",
    "import numpy as np\n",
    "import matplotlib.pyplot as plt\n",
    "import datetime\n",
    "excelFile = 'Cubing Data.xlsx'\n",
    "solutions = pd.read_excel(excelFile)"
   ]
  },
  {
   "cell_type": "code",
   "execution_count": 2,
   "metadata": {},
   "outputs": [],
   "source": [
    "date = 'Solution Date & Time'\n",
    "solve = 'Time Elapsed (seconds)'\n",
    "ao5 = 'Current Ao5'\n",
    "ao12 = 'Current Ao12'\n",
    "ao100 = 'Current Ao100'\n",
    "del solutions['Scramble']\n",
    "\n",
    "splits = [0,15,20,25,30,45,60]\n",
    "splitNames = ['Sub-15', 'Sub-20', 'Sub-25', 'Sub-30', 'Sub-45', 'Sub-60']\n",
    "# solutions['Single Splits'] = pd.cut(solutions['Time Elapsed (seconds)'], splits, right = False, labels=splitNames)\n",
    "# The line above isn't required, but it can show visually how each time is categorized."
   ]
  },
  {
   "cell_type": "code",
   "execution_count": 3,
   "metadata": {},
   "outputs": [
    {
     "name": "stdout",
     "output_type": "stream",
     "text": [
      "[[0, 0, 2, 4, 62, 1], [7, 346, 1569, 1233, 753, 25], [41, 2217, 4444, 158, 2, 0], [4, 72, 146, 0, 0, 0], [30, 589, 530, 0, 0, 0], [24, 608, 373, 0, 0, 0], [58, 904, 378, 0, 0, 0], [6, 55, 13, 0, 0, 0], [17, 355, 174, 0, 0, 0], [24, 309, 117, 0, 0, 0], [60, 1003, 609, 0, 0, 0]]\n"
     ]
    }
   ],
   "source": [
    "now = datetime.datetime.now()\n",
    "currentYear = now.year\n",
    "activeYear = 0\n",
    "activeMonth = 0\n",
    "\n",
    "# Determine what range you want to count\n",
    "solutionsPerRange = []\n",
    "rangeLabels = []\n",
    "\n",
    "for index, row in solutions.iterrows():\n",
    "    if row[0].year != activeYear and row[0].year != currentYear: #when entering a new year\n",
    "        activeYear = row[0].year\n",
    "        solutionsPerRange.append(1)\n",
    "        rangeLabels.append(str(activeYear))\n",
    "    elif row[0].year == activeYear and row[0].year != currentYear: #when in a year != present year\n",
    "        solutionsPerRange[-1] += 1\n",
    "    else: #when in the present year we want monthly breakdowns\n",
    "        if row[0].month != activeMonth: #when entering a new month\n",
    "            activeMonth = row[0].month\n",
    "            solutionsPerRange.append(1)\n",
    "            rangeLabels.append(datetime.date(currentYear, activeMonth, 1).strftime('%B %Y'))\n",
    "        else: #when in any month\n",
    "            solutionsPerRange[-1] += 1\n",
    "\n",
    "# print(solutionsPerRange)\n",
    "# print(rangeLabels)\n",
    "\n",
    "ranges = [0]\n",
    "nextEnd = 0\n",
    "for x in range(len(solutionsPerRange)):\n",
    "    nextEnd += solutionsPerRange[x]\n",
    "    ranges.append(nextEnd)\n",
    "\n",
    "# print(ranges)\n",
    "\n",
    "# Stacked plots need to have all of one kind of data together (e.g., all the sub-15s in one list).\n",
    "# Therefore, splitCounter needs to be rewritten to run through each range, count the sub-x times,\n",
    "# then run again and count the next set of sub-x times.\n",
    "\n",
    "# A nicer alternative may be to run through each date range and collect how many of each time there are,\n",
    "# then transpose that matrix. Could be easier to implement and prevents us from having to run through each \n",
    "# date range multiple times to get more data.\n",
    "# This alternative was chosen and is implemented in the cell below.\n",
    "\n",
    "totalSplits = []\n",
    "\n",
    "for x in range(len(ranges)-1):\n",
    "    rangeStart = ranges[x] + 1\n",
    "    rangeEnd = ranges[x+1] + 1\n",
    "    currentRange = solutions.iloc[rangeStart:rangeEnd]   \n",
    "    splitCount = [0, 0, 0, 0, 0, 0]\n",
    "    for index, row in currentRange.iterrows():\n",
    "        if row[1] < 15:\n",
    "            splitCount[0] += 1\n",
    "        elif row[1] < 20:\n",
    "            splitCount[1] += 1\n",
    "        elif row[1] < 25:\n",
    "            splitCount[2] += 1\n",
    "        elif row[1] < 30:\n",
    "            splitCount[3] += 1\n",
    "        elif row[1] < 45:\n",
    "            splitCount[4] += 1\n",
    "        else:\n",
    "            splitCount[5] += 1\n",
    "    totalSplits.append(splitCount)\n",
    "\n",
    "# print(totalSplits)"
   ]
  },
  {
   "cell_type": "code",
   "execution_count": 13,
   "metadata": {},
   "outputs": [],
   "source": [
    "# Prepare the data for plotting\n",
    "plotData = pd.DataFrame(totalSplits)\n",
    "plotData = plotData.transpose()\n",
    "plotData.index = splitNames\n",
    "plotData.columns = rangeLabels\n",
    "\n",
    "# Normalize the data\n",
    "normalizedData = plotData.divide(plotData.sum(axis=0), axis=1)\n",
    "normalizedData = normalizedData * 100\n",
    "\n",
    "# Plot the data\n",
    "plt.stackplot(range(len(rangeLabels)), normalizedData, labels=splitNames)\n",
    "plt.legend(loc='upper left')\n",
    "plt.margins(0,0)\n",
    "plt.title('Improvement over time')\n",
    "plt.xticks(range(len(rangeLabels)),rangeLabels, rotation=45)\n",
    "plt.show()"
   ]
  },
  {
   "cell_type": "code",
   "execution_count": null,
   "metadata": {},
   "outputs": [],
   "source": []
  },
  {
   "cell_type": "code",
   "execution_count": null,
   "metadata": {},
   "outputs": [],
   "source": [
    "#TODO:\n",
    "#Progress evaluator for Ao5, 12, 100, etc.\n",
    "#PB Tracker\n",
    "#Weekday Evaluator\n",
    "#Day-by-day PBs"
   ]
  }
 ],
 "metadata": {
  "kernelspec": {
   "display_name": "Python 3",
   "language": "python",
   "name": "python3"
  },
  "language_info": {
   "codemirror_mode": {
    "name": "ipython",
    "version": 3
   },
   "file_extension": ".py",
   "mimetype": "text/x-python",
   "name": "python",
   "nbconvert_exporter": "python",
   "pygments_lexer": "ipython3",
   "version": "3.7.3"
  }
 },
 "nbformat": 4,
 "nbformat_minor": 2
}
